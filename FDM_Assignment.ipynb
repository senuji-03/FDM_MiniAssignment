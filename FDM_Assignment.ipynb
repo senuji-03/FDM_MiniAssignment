{
  "nbformat": 4,
  "nbformat_minor": 0,
  "metadata": {
    "colab": {
      "provenance": [],
      "authorship_tag": "ABX9TyOxhpzAPMw7aqoKxclDxTir",
      "include_colab_link": true
    },
    "kernelspec": {
      "name": "python3",
      "display_name": "Python 3"
    },
    "language_info": {
      "name": "python"
    }
  },
  "cells": [
    {
      "cell_type": "markdown",
      "metadata": {
        "id": "view-in-github",
        "colab_type": "text"
      },
      "source": [
        "<a href=\"https://colab.research.google.com/github/senuji-03/FDM_MiniAssignment/blob/main/FDM_Assignment.ipynb\" target=\"_parent\"><img src=\"https://colab.research.google.com/assets/colab-badge.svg\" alt=\"Open In Colab\"/></a>"
      ]
    },
    {
      "cell_type": "code",
      "execution_count": 6,
      "metadata": {
        "colab": {
          "base_uri": "https://localhost:8080/"
        },
        "id": "caAwBnLlFR5k",
        "outputId": "94bbc016-e65e-4a14-9b00-ed33324ad286"
      },
      "outputs": [
        {
          "output_type": "stream",
          "name": "stdout",
          "text": [
            "   PatientID  Age  Weight_kg  BloodPressure  CholesterolLevel  Gender  \\\n",
            "0          1   51      110.0            169             294.0  Female   \n",
            "1          2   14       48.0            111             277.0  Female   \n",
            "2          3   71       40.0            149             182.0  Female   \n",
            "3          4   60        NaN            111             264.0    Male   \n",
            "4          5   20      102.0            147             268.0  Female   \n",
            "5          6   82       50.0            134             171.0  Female   \n",
            "6          7   86       47.0            154             187.0  Female   \n",
            "7          8   74       74.0            135             258.0  Female   \n",
            "8          9   74       74.0             96             200.0    Male   \n",
            "9         10   87       72.0            117             157.0    Male   \n",
            "\n",
            "   Diabetic  Smoker  \n",
            "0         1       0  \n",
            "1         1       1  \n",
            "2         1       0  \n",
            "3         0       0  \n",
            "4         1       0  \n",
            "5         0       0  \n",
            "6         1       1  \n",
            "7         1       1  \n",
            "8         1       0  \n",
            "9         0       0  \n"
          ]
        }
      ],
      "source": [
        "import pandas as pd\n",
        "import numpy as np\n",
        "\n",
        "# Reproducibility\n",
        "np.random.seed(42)\n",
        "\n",
        "# Create dataset\n",
        "data = {\n",
        "    \"PatientID\": range(1, 101),\n",
        "    \"Age\": np.random.randint(0, 90, size=100),\n",
        "    \"Weight_kg\": np.random.randint(40, 120, size=100).astype(float),\n",
        "    \"BloodPressure\": np.random.randint(80, 180, size=100),\n",
        "    \"CholesterolLevel\": np.random.randint(150, 300, size=100),\n",
        "    \"Gender\": np.random.choice([\"Male\", \"Female\"], size=100),\n",
        "    \"Diabetic\": np.random.choice([0, 1], size=100),  # 0 = No, 1 = Yes\n",
        "    \"Smoker\": np.random.choice([0, 1], size=100)\n",
        "}\n",
        "\n",
        "df = pd.DataFrame(data)\n",
        "\n",
        "# Introduce some missing values\n",
        "df.loc[np.random.choice(df.index, 8, replace=False), \"Weight_kg\"] = np.nan\n",
        "df.loc[np.random.choice(df.index, 5, replace=False), \"CholesterolLevel\"] = np.nan\n",
        "\n",
        "# Introduce noisy/outlier values\n",
        "df.loc[np.random.choice(df.index, 3, replace=False), \"Weight_kg\"] = -50  # Invalid weight\n",
        "\n",
        "print(df.head(10))\n",
        "\n",
        "\n"
      ]
    },
    {
      "cell_type": "code",
      "source": [
        "# Fill missing Age with mean\n",
        "df[\"Age\"].fillna(df[\"Age\"].mean(), inplace=True)\n",
        "\n",
        "# Fill missing Weight with median\n",
        "df[\"Weight_kg\"].fillna(df[\"Weight_kg\"].median(), inplace=True)\n",
        "\n",
        "# Fill missing Cholesterol with median\n",
        "df[\"CholesterolLevel\"].fillna(df[\"CholesterolLevel\"].median(), inplace=True)"
      ],
      "metadata": {
        "colab": {
          "base_uri": "https://localhost:8080/"
        },
        "id": "8QKugfKUsd0p",
        "outputId": "433448ef-64dd-4416-d94d-d3bc362f667a"
      },
      "execution_count": 7,
      "outputs": [
        {
          "output_type": "stream",
          "name": "stderr",
          "text": [
            "/tmp/ipython-input-3486305947.py:2: FutureWarning: A value is trying to be set on a copy of a DataFrame or Series through chained assignment using an inplace method.\n",
            "The behavior will change in pandas 3.0. This inplace method will never work because the intermediate object on which we are setting values always behaves as a copy.\n",
            "\n",
            "For example, when doing 'df[col].method(value, inplace=True)', try using 'df.method({col: value}, inplace=True)' or df[col] = df[col].method(value) instead, to perform the operation inplace on the original object.\n",
            "\n",
            "\n",
            "  df[\"Age\"].fillna(df[\"Age\"].mean(), inplace=True)\n",
            "/tmp/ipython-input-3486305947.py:5: FutureWarning: A value is trying to be set on a copy of a DataFrame or Series through chained assignment using an inplace method.\n",
            "The behavior will change in pandas 3.0. This inplace method will never work because the intermediate object on which we are setting values always behaves as a copy.\n",
            "\n",
            "For example, when doing 'df[col].method(value, inplace=True)', try using 'df.method({col: value}, inplace=True)' or df[col] = df[col].method(value) instead, to perform the operation inplace on the original object.\n",
            "\n",
            "\n",
            "  df[\"Weight_kg\"].fillna(df[\"Weight_kg\"].median(), inplace=True)\n",
            "/tmp/ipython-input-3486305947.py:8: FutureWarning: A value is trying to be set on a copy of a DataFrame or Series through chained assignment using an inplace method.\n",
            "The behavior will change in pandas 3.0. This inplace method will never work because the intermediate object on which we are setting values always behaves as a copy.\n",
            "\n",
            "For example, when doing 'df[col].method(value, inplace=True)', try using 'df.method({col: value}, inplace=True)' or df[col] = df[col].method(value) instead, to perform the operation inplace on the original object.\n",
            "\n",
            "\n",
            "  df[\"CholesterolLevel\"].fillna(df[\"CholesterolLevel\"].median(), inplace=True)\n"
          ]
        }
      ]
    },
    {
      "cell_type": "code",
      "source": [
        "# Handle noisy/outlier data (negative weight)\n",
        "df.loc[df[\"Weight_kg\"] < 0, \"Weight_kg\"] = df[\"Weight_kg\"].median()"
      ],
      "metadata": {
        "id": "V1w8JcCfsnLK"
      },
      "execution_count": 8,
      "outputs": []
    },
    {
      "cell_type": "code",
      "source": [
        "print(df.head(10))"
      ],
      "metadata": {
        "colab": {
          "base_uri": "https://localhost:8080/"
        },
        "id": "qNq4VPH9sq0s",
        "outputId": "ce2eed35-b09f-4318-b06b-42bce1d2c105"
      },
      "execution_count": 9,
      "outputs": [
        {
          "output_type": "stream",
          "name": "stdout",
          "text": [
            "   PatientID  Age  Weight_kg  BloodPressure  CholesterolLevel  Gender  \\\n",
            "0          1   51      110.0            169             294.0  Female   \n",
            "1          2   14       48.0            111             277.0  Female   \n",
            "2          3   71       40.0            149             182.0  Female   \n",
            "3          4   60       76.0            111             264.0    Male   \n",
            "4          5   20      102.0            147             268.0  Female   \n",
            "5          6   82       50.0            134             171.0  Female   \n",
            "6          7   86       47.0            154             187.0  Female   \n",
            "7          8   74       74.0            135             258.0  Female   \n",
            "8          9   74       74.0             96             200.0    Male   \n",
            "9         10   87       72.0            117             157.0    Male   \n",
            "\n",
            "   Diabetic  Smoker  \n",
            "0         1       0  \n",
            "1         1       1  \n",
            "2         1       0  \n",
            "3         0       0  \n",
            "4         1       0  \n",
            "5         0       0  \n",
            "6         1       1  \n",
            "7         1       1  \n",
            "8         1       0  \n",
            "9         0       0  \n"
          ]
        }
      ]
    },
    {
      "cell_type": "code",
      "source": [
        "from sklearn.preprocessing import MinMaxScaler, StandardScaler\n",
        "\n",
        "# Normalize Weight and Cholesterol\n",
        "scaler = MinMaxScaler()\n",
        "df[[\"Weight_norm\", \"Cholesterol_norm\"]] = scaler.fit_transform(df[[\"Weight_kg\", \"CholesterolLevel\"]])\n",
        "\n",
        "# Z-score normalization of Age\n",
        "scaler = StandardScaler()\n",
        "df[\"Age_zscore\"] = scaler.fit_transform(df[[\"Age\"]])\n",
        "\n",
        "# Discretize Age into groups\n",
        "df[\"AgeGroup\"] = pd.cut(df[\"Age\"], bins=[0, 18, 40, 60, 90], labels=[\"Child\", \"Young Adult\", \"Adult\", \"Senior\"])\n",
        "\n",
        "# One-Hot Encoding for Gender\n",
        "df = pd.get_dummies(df, columns=[\"Gender\"], prefix=\"Gender\")\n"
      ],
      "metadata": {
        "id": "gLzSXBMZ6dCJ"
      },
      "execution_count": 10,
      "outputs": []
    },
    {
      "cell_type": "code",
      "source": [
        "# Drop irrelevant column\n",
        "df_reduced = df.drop(columns=[\"PatientID\"])\n",
        "\n",
        "# PCA Example (combine numerical features)\n",
        "from sklearn.decomposition import PCA\n",
        "features = [\"Age\", \"Weight_kg\", \"BloodPressure\", \"CholesterolLevel\"]\n",
        "pca = PCA(n_components=1)\n",
        "df[\"PCA_Feature\"] = pca.fit_transform(df[features])\n",
        "print(df.head(10))\n"
      ],
      "metadata": {
        "colab": {
          "base_uri": "https://localhost:8080/"
        },
        "id": "HVz9BD7i8WXp",
        "outputId": "e175b150-2b0e-4287-b8e0-d18795644a7d"
      },
      "execution_count": 12,
      "outputs": [
        {
          "output_type": "stream",
          "name": "stdout",
          "text": [
            "   PatientID  Age  Weight_kg  BloodPressure  CholesterolLevel  Diabetic  \\\n",
            "0          1   51      110.0            169             294.0         1   \n",
            "1          2   14       48.0            111             277.0         1   \n",
            "2          3   71       40.0            149             182.0         1   \n",
            "3          4   60       76.0            111             264.0         0   \n",
            "4          5   20      102.0            147             268.0         1   \n",
            "5          6   82       50.0            134             171.0         0   \n",
            "6          7   86       47.0            154             187.0         1   \n",
            "7          8   74       74.0            135             258.0         1   \n",
            "8          9   74       74.0             96             200.0         1   \n",
            "9         10   87       72.0            117             157.0         0   \n",
            "\n",
            "   Smoker  Weight_norm  Cholesterol_norm  Age_zscore     AgeGroup  \\\n",
            "0       0     0.897436          0.965753    0.159147        Adult   \n",
            "1       1     0.102564          0.849315   -1.203916        Child   \n",
            "2       0     0.000000          0.198630    0.895937       Senior   \n",
            "3       0     0.461538          0.760274    0.490703        Adult   \n",
            "4       0     0.794872          0.787671   -0.982879  Young Adult   \n",
            "5       0     0.128205          0.123288    1.301172       Senior   \n",
            "6       1     0.089744          0.232877    1.448530       Senior   \n",
            "7       1     0.435897          0.719178    1.006456       Senior   \n",
            "8       0     0.435897          0.321918    1.006456       Senior   \n",
            "9       0     0.410256          0.027397    1.485370       Senior   \n",
            "\n",
            "   Gender_Female  Gender_Male  PCA_Feature  \n",
            "0           True        False    78.689750  \n",
            "1           True        False    61.099835  \n",
            "2           True        False   -41.638136  \n",
            "3          False         True    41.683880  \n",
            "4           True        False    57.728779  \n",
            "5           True        False   -54.450299  \n",
            "6           True        False   -38.897174  \n",
            "7           True        False    34.090350  \n",
            "8          False         True   -24.429758  \n",
            "9          False         True   -68.031054  \n"
          ]
        }
      ]
    },
    {
      "cell_type": "code",
      "source": [
        "# Hospital ward information\n",
        "ward_data = pd.DataFrame({\n",
        "    \"PatientID\": range(1, 101),\n",
        "    \"Ward\": np.random.choice([\"General\", \"ICU\", \"Maternity\", \"Surgery\"], size=100)\n",
        "})\n",
        "\n",
        "# Merge with main dataset\n",
        "df = df.merge(ward_data, on=\"PatientID\")\n",
        "\n",
        "print(df.head(10))\n"
      ],
      "metadata": {
        "colab": {
          "base_uri": "https://localhost:8080/"
        },
        "id": "9UyEaDb69vX5",
        "outputId": "5161f4a0-50be-4754-b102-99f22f69a5f3"
      },
      "execution_count": 14,
      "outputs": [
        {
          "output_type": "stream",
          "name": "stdout",
          "text": [
            "   PatientID  Age  Weight_kg  BloodPressure  CholesterolLevel  Diabetic  \\\n",
            "0          1   51      110.0            169             294.0         1   \n",
            "1          2   14       48.0            111             277.0         1   \n",
            "2          3   71       40.0            149             182.0         1   \n",
            "3          4   60       76.0            111             264.0         0   \n",
            "4          5   20      102.0            147             268.0         1   \n",
            "5          6   82       50.0            134             171.0         0   \n",
            "6          7   86       47.0            154             187.0         1   \n",
            "7          8   74       74.0            135             258.0         1   \n",
            "8          9   74       74.0             96             200.0         1   \n",
            "9         10   87       72.0            117             157.0         0   \n",
            "\n",
            "   Smoker  Weight_norm  Cholesterol_norm  Age_zscore     AgeGroup  \\\n",
            "0       0     0.897436          0.965753    0.159147        Adult   \n",
            "1       1     0.102564          0.849315   -1.203916        Child   \n",
            "2       0     0.000000          0.198630    0.895937       Senior   \n",
            "3       0     0.461538          0.760274    0.490703        Adult   \n",
            "4       0     0.794872          0.787671   -0.982879  Young Adult   \n",
            "5       0     0.128205          0.123288    1.301172       Senior   \n",
            "6       1     0.089744          0.232877    1.448530       Senior   \n",
            "7       1     0.435897          0.719178    1.006456       Senior   \n",
            "8       0     0.435897          0.321918    1.006456       Senior   \n",
            "9       0     0.410256          0.027397    1.485370       Senior   \n",
            "\n",
            "   Gender_Female  Gender_Male  PCA_Feature     Ward_x     Ward_y  \n",
            "0           True        False    78.689750    Surgery    General  \n",
            "1           True        False    61.099835  Maternity    General  \n",
            "2           True        False   -41.638136    General  Maternity  \n",
            "3          False         True    41.683880        ICU  Maternity  \n",
            "4           True        False    57.728779    General    Surgery  \n",
            "5           True        False   -54.450299    General        ICU  \n",
            "6           True        False   -38.897174    General  Maternity  \n",
            "7           True        False    34.090350    General  Maternity  \n",
            "8          False         True   -24.429758        ICU        ICU  \n",
            "9          False         True   -68.031054    General  Maternity  \n"
          ]
        }
      ]
    }
  ]
}